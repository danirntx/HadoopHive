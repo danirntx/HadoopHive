{
 "cells": [
  {
   "cell_type": "code",
   "execution_count": 1,
   "metadata": {
    "scrolled": false
   },
   "outputs": [
    {
     "data": {
      "text/html": [
       "<body>\n",
       "<div class='menu'>\n",
       "<h1>CocaHive.com</h1>\n",
       "</br>\n",
       "\n",
       "¿Sobre que datos quieres ver la tasa de accidentes?:\n",
       "    </br>\n",
       "    </br>\n",
       "<label for=\"show\">\n",
       "    <span class=\"spanmenu\">Edad</span>\n",
       "</label>\n",
       "<input type=\"radio\" id=\"show\" name=\"group\">\n",
       "\n",
       "<label for=\"show2\">\n",
       "    <span class=\"spanmenu2\">Sexo</span>\n",
       "</label>\n",
       "<input type=\"radio\" id=\"show2\" name=\"group\">\n",
       "\n",
       "<label for=\"show3\">\n",
       "    <span class=\"spanmenu3\">Gravedad</span>\n",
       "</label>\n",
       "<input type=\"radio\" id=\"show3\" name=\"group\">\n",
       "\n",
       "<label for=\"show4\">\n",
       "    <span class=\"spanmenu4\">Nº Victimas</span>\n",
       "</label>\n",
       "<input type=\"radio\" id=\"show4\" name=\"group\">\n",
       "\n",
       "<label for=\"show5\">\n",
       "    <span class=\"spanmenu5\">Lugar</span>\n",
       "</label>\n",
       "<input type=\"radio\" id=\"show5\" name=\"group\">\n",
       "\n",
       "</br></br>\n",
       "\n",
       "<div id=\"content\">\n",
       "    <div class='col-sm-8'>\n",
       "        <img src=\"https://psicologiaymente.com/media/vR/jY/Eb/vRjYEbzZaM/grafico-barras/default.jpg\" style=\"width:100%\">\n",
       "    </div>\n",
       "    <div class='col-sm-4'>\n",
       "        Grafica de accidentes\n",
       "    </div>\n",
       "</div>\n",
       "<div id=\"content2\">GRAFICA 2</div>\n",
       "<div id=\"content3\">GRAFICA 3</div>\n",
       "<div id=\"content4\">GRAFICA 4</div>\n",
       "<div id=\"content5\">GRAFICA 5</div>\n",
       "</div>\n",
       "</body>\n"
      ],
      "text/plain": [
       "<IPython.core.display.HTML object>"
      ]
     },
     "metadata": {},
     "output_type": "display_data"
    }
   ],
   "source": [
    "%%HTML\n",
    "<body>\n",
    "<div class='menu'>\n",
    "<h1>CocaHive.com</h1>\n",
    "</br>\n",
    "\n",
    "¿Sobre que datos quieres ver la tasa de accidentes?:\n",
    "    </br>\n",
    "    </br>\n",
    "<label for=\"show\">\n",
    "    <span class=\"spanmenu\">Edad</span>\n",
    "</label>\n",
    "<input type=\"radio\" id=\"show\" name=\"group\">\n",
    "\n",
    "<label for=\"show2\">\n",
    "    <span class=\"spanmenu2\">Sexo</span>\n",
    "</label>\n",
    "<input type=\"radio\" id=\"show2\" name=\"group\">\n",
    "\n",
    "<label for=\"show3\">\n",
    "    <span class=\"spanmenu3\">Gravedad</span>\n",
    "</label>\n",
    "<input type=\"radio\" id=\"show3\" name=\"group\">\n",
    "\n",
    "<label for=\"show4\">\n",
    "    <span class=\"spanmenu4\">Nº Victimas</span>\n",
    "</label>\n",
    "<input type=\"radio\" id=\"show4\" name=\"group\">\n",
    "\n",
    "<label for=\"show5\">\n",
    "    <span class=\"spanmenu5\">Lugar</span>\n",
    "</label>\n",
    "<input type=\"radio\" id=\"show5\" name=\"group\">\n",
    "\n",
    "</br></br>\n",
    "\n",
    "<div id=\"content\">\n",
    "    <div class='col-sm-8'>\n",
    "        <img src=\"https://psicologiaymente.com/media/vR/jY/Eb/vRjYEbzZaM/grafico-barras/default.jpg\" style=\"width:100%\">\n",
    "    </div>\n",
    "    <div class='col-sm-4'>\n",
    "        Grafica de accidentes\n",
    "    </div>\n",
    "</div>\n",
    "<div id=\"content2\">GRAFICA 2</div>\n",
    "<div id=\"content3\">GRAFICA 3</div>\n",
    "<div id=\"content4\">GRAFICA 4</div>\n",
    "<div id=\"content5\">GRAFICA 5</div>\n",
    "</div>\n",
    "</body>"
   ]
  },
  {
   "cell_type": "code",
   "execution_count": null,
   "metadata": {},
   "outputs": [],
   "source": []
  }
 ],
 "metadata": {
  "kernelspec": {
   "display_name": "Python 3",
   "language": "python",
   "name": "python3"
  },
  "language_info": {
   "codemirror_mode": {
    "name": "ipython",
    "version": 3
   },
   "file_extension": ".py",
   "mimetype": "text/x-python",
   "name": "python",
   "nbconvert_exporter": "python",
   "pygments_lexer": "ipython3",
   "version": "3.5.3"
  }
 },
 "nbformat": 4,
 "nbformat_minor": 2
}
